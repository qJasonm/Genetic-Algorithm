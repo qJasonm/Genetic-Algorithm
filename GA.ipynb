{
 "cells": [
  {
   "cell_type": "markdown",
   "id": "square-formation",
   "metadata": {},
   "source": [
    "# ** Genetic Algorithm**\n",
    "---\n",
    "## Introduction\n",
    "* This is the note about Genetic Algorithm. ```Genetic Algorithm``` is a type of optimization algorithm inspired by the process of natural selection in biology. It is used to solve optimization and search problems by imitating the biological process of evolution, where natural selection plays a key role in the process of survival of the fittest.\n",
    "\n",
    "**Section**\n",
    "\n",
    "1. Using ```Genetic Algorithm``` to reproduce the given array.\n",
    "2. Using ```Genetic Algorithm``` to find the best number or the closest number for the formula.\n",
    "---"
   ]
  },
  {
   "cell_type": "code",
   "execution_count": 25,
   "id": "wicked-patent",
   "metadata": {},
   "outputs": [],
   "source": [
    "import numpy as np\n",
    "from tqdm import tqdm\n",
    "import math"
   ]
  },
  {
   "cell_type": "code",
   "execution_count": 26,
   "id": "resistant-james",
   "metadata": {},
   "outputs": [],
   "source": [
    "def generater(minimum_value,maximum_value):\n",
    "    possibility = np.random.randint(1, 11)\n",
    "\n",
    "   \n",
    "    if possibility % 2 == 0:\n",
    "        number = np.random.randint(minimum_value,maximum_value)\n",
    "    \n",
    "    else:\n",
    "        number = np.random.uniform(minimum_value,maximum_value)\n",
    "    \n",
    "    return number\n",
    "        "
   ]
  },
  {
   "cell_type": "code",
   "execution_count": 27,
   "id": "removed-software",
   "metadata": {},
   "outputs": [],
   "source": [
    "def AnE(length,minimum_value,maximum_value,superised=True):\n",
    "    if superised:\n",
    "        length = len(length)\n",
    "    par_1 = np.zeros(length)\n",
    "    par_2 = np.zeros(length)\n",
    "    for l in range(len(par_1)):\n",
    "        par_1[l] = generater(minimum_value,maximum_value)\n",
    "        par_2[l] = generater(minimum_value,maximum_value)\n",
    "    \n",
    "    mini = minimum_value\n",
    "    maxi = maximum_value\n",
    "\n",
    "    return par_1,par_2,mini,maxi"
   ]
  },
  {
   "cell_type": "code",
   "execution_count": 179,
   "id": "available-shanghai",
   "metadata": {},
   "outputs": [],
   "source": [
    "def genesis(minimum_value,maximum_value,par_1,par_2,number_generation,number_descentdant,mutation,goal,formula,log=False):\n",
    "    \n",
    "\n",
    "    formula_length = len(par_1)\n",
    "\n",
    "    history1 = [par_1]\n",
    "    history2 = [par_2]\n",
    "\n",
    "    for g in tqdm(range(number_generation)):\n",
    "\n",
    "        family = []\n",
    "        difference = []\n",
    "\n",
    "        for d in range(number_descentdant):\n",
    "\n",
    "            descendant = np.zeros(formula_length)\n",
    "\n",
    "            for ed in range(formula_length):\n",
    "\n",
    "                chance = np.random.randint(10)\n",
    "\n",
    "                if chance < 6:\n",
    "                    descendant[ed] = par_1[ed]\n",
    "                    \n",
    "                else:\n",
    "                    descendant[ed] = par_2[ed]\n",
    "                    \n",
    "                if chance <= 9 * mutation:\n",
    "                    descendant[ed] = generater(minimum_value,maximum_value)\n",
    "                    \n",
    "                    \n",
    "            if log:\n",
    "                while(True):\n",
    "\n",
    "                    if descendant[1] == 0:\n",
    "\n",
    "                        chance = np.random.randint(10)\n",
    "\n",
    "                        if chance < 6:\n",
    "                            descendant[1] = par_1[1]\n",
    "\n",
    "                        else:\n",
    "                            descendant[1] = par_2[2]\n",
    "\n",
    "                        if chance <= 9*0.1:\n",
    "                            descendant[1] = generater(minimum_value,maximum_value)\n",
    "                    else:\n",
    "                        break\n",
    "\n",
    "                \n",
    "                    \n",
    "\n",
    "                    \n",
    "                        \n",
    "            result = formula(descendant,goal)\n",
    "            difference.append(result)\n",
    "            family.append(descendant)\n",
    "        better = np.argsort(difference)[:2]\n",
    "        par_1 = family[better[0]]\n",
    "        par_2 = family[better[1]]\n",
    "        history1.append(par_1)\n",
    "        history2.append(par_2)\n",
    "    \n",
    "    return par_1,par_2,difference,history1"
   ]
  },
  {
   "cell_type": "markdown",
   "id": "confidential-travel",
   "metadata": {},
   "source": [
    "---"
   ]
  },
  {
   "cell_type": "markdown",
   "id": "spiritual-geography",
   "metadata": {},
   "source": [
    "## Model 1"
   ]
  },
  {
   "cell_type": "code",
   "execution_count": 285,
   "id": "incredible-cedar",
   "metadata": {},
   "outputs": [],
   "source": [
    "par_1,par_2,x,y = AnE(1,0,3,superised = False)\n"
   ]
  },
  {
   "cell_type": "code",
   "execution_count": 286,
   "id": "mediterranean-objective",
   "metadata": {},
   "outputs": [],
   "source": [
    "def formula(descentdant,goal):\n",
    "    a = np.e**descentdant[0]\n",
    "    result = np.absolute((a)-goal)\n",
    "    return result"
   ]
  },
  {
   "cell_type": "code",
   "execution_count": 287,
   "id": "allied-armor",
   "metadata": {},
   "outputs": [
    {
     "name": "stderr",
     "output_type": "stream",
     "text": [
      "100%|████████████████████████████████████████| 200/200 [00:00<00:00, 585.35it/s]\n"
     ]
    }
   ],
   "source": [
    "par_1,par_2,difference,history = genesis(x,y,par_1,par_2,200,500,0.5,12.5,formula)"
   ]
  },
  {
   "cell_type": "code",
   "execution_count": 288,
   "id": "0cdb7c3e",
   "metadata": {},
   "outputs": [
    {
     "data": {
      "text/plain": [
       "array([2.52585992])"
      ]
     },
     "execution_count": 288,
     "metadata": {},
     "output_type": "execute_result"
    }
   ],
   "source": [
    "par_1"
   ]
  },
  {
   "cell_type": "markdown",
   "id": "turned-annotation",
   "metadata": {},
   "source": [
    "---"
   ]
  },
  {
   "cell_type": "markdown",
   "id": "empty-summary",
   "metadata": {},
   "source": [
    "## Model 2"
   ]
  },
  {
   "cell_type": "code",
   "execution_count": 297,
   "id": "sound-defense",
   "metadata": {},
   "outputs": [],
   "source": [
    "def formula_one(descentdant,goal):\n",
    "    a = 5*(np.e**descentdant[0])\n",
    "    b = 8*descentdant[1]\n",
    "    c = 7*(np.sin(math.radians(descentdant[2])))\n",
    "    d = np.sin(math.radians(descentdant[3])*5)\n",
    "    result = np.absolute(((a+b+c)*d)-goal)\n",
    "    return result"
   ]
  },
  {
   "cell_type": "code",
   "execution_count": null,
   "id": "3aad0da9",
   "metadata": {},
   "outputs": [],
   "source": []
  },
  {
   "cell_type": "code",
   "execution_count": null,
   "id": "mineral-boring",
   "metadata": {},
   "outputs": [
    {
     "name": "stderr",
     "output_type": "stream",
     "text": [
      " 55%|█████████████████████▌                 | 2761/5000 [03:47<03:04, 12.17it/s]"
     ]
    }
   ],
   "source": [
    "par_1,par_2,x,y = AnE(4,0,100, superised = False)\n",
    "par_1,par_2,difference,history = genesis(x,y,par_1,par_2,5000,10000,0.2,10,formula_one)"
   ]
  },
  {
   "cell_type": "code",
   "execution_count": null,
   "id": "minus-equality",
   "metadata": {},
   "outputs": [],
   "source": [
    "par_1"
   ]
  },
  {
   "cell_type": "code",
   "execution_count": null,
   "id": "unknown-perth",
   "metadata": {},
   "outputs": [],
   "source": [
    "formula_one(par_1,10)"
   ]
  },
  {
   "cell_type": "markdown",
   "id": "cross-groove",
   "metadata": {},
   "source": [
    "---"
   ]
  },
  {
   "cell_type": "code",
   "execution_count": null,
   "id": "excited-arrest",
   "metadata": {},
   "outputs": [],
   "source": []
  }
 ],
 "metadata": {
  "kernelspec": {
   "display_name": "Python 3 (ipykernel)",
   "language": "python",
   "name": "python3"
  },
  "language_info": {
   "codemirror_mode": {
    "name": "ipython",
    "version": 3
   },
   "file_extension": ".py",
   "mimetype": "text/x-python",
   "name": "python",
   "nbconvert_exporter": "python",
   "pygments_lexer": "ipython3",
   "version": "3.10.11"
  }
 },
 "nbformat": 4,
 "nbformat_minor": 5
}
